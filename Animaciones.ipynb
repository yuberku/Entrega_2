{
 "cells": [
  {
   "cell_type": "code",
   "execution_count": 2,
   "metadata": {
    "collapsed": true
   },
   "outputs": [],
   "source": [
    "from sympy import * \n",
    "import numpy as np\n",
    "import matplotlib\n",
    "matplotlib.use(\"Agg\")\n",
    "import matplotlib.pyplot as plt\n",
    "import matplotlib.animation as animation\n",
    "from scipy.integrate import odeint"
   ]
  },
  {
   "cell_type": "markdown",
   "metadata": {},
   "source": [
    "### Solución numérica especies Lotka Volterra"
   ]
  },
  {
   "cell_type": "code",
   "execution_count": 3,
   "metadata": {
    "collapsed": false
   },
   "outputs": [],
   "source": [
    "def yut(y, t, a1, a2, c1, c2):\n",
    "        x1, x2 = y\n",
    "        dydt = [a1*x1-c1*x2*x1,-a2*x2+c2*x1*x2]\n",
    "        return dydt\n",
    "    \n",
    "a1=0.001\n",
    "a2=0.0001\n",
    "c1=0.0001\n",
    "c2=0.0001\n",
    "\n",
    "y0 = [100.0, 10.0]\n",
    "T2 = np.linspace(0,1200,5000)\n",
    "sol = odeint(yut, y0, T2, args=(a1, a2, c1, c2))\n",
    "s1=sol[:,0]\n",
    "s2=sol[:,1]"
   ]
  },
  {
   "cell_type": "markdown",
   "metadata": {},
   "source": [
    "### Animación\n",
    "En la siguiente animación se montrará en número de cada una de las especies en el tiempo"
   ]
  },
  {
   "cell_type": "code",
   "execution_count": 5,
   "metadata": {
    "collapsed": false
   },
   "outputs": [],
   "source": [
    "import numpy as np\n",
    "import matplotlib\n",
    "matplotlib.use(\"Agg\")\n",
    "import matplotlib.pyplot as plt\n",
    "import matplotlib.animation as animation\n",
    "\n",
    "fig = plt.figure(figsize=(10,7))\n",
    "xp = np.linspace(-5,5,100)\n",
    "xs = np.linspace(-5,5,10)\n",
    "\n",
    "p, = plt.plot(xp, np.sin(xp) )\n",
    "s, = plt.plot(xp, np.sin(xp) )\n",
    "plt.legend((\"x(t)\", \"y(t)\"))\n",
    "plt.xlabel(\"t\")\n",
    "plt.title(\"Numero de especies\")\n",
    "\n",
    "plt.ylim(-100,100)\n",
    "plt.xlim(-10,20100)\n",
    "def update(a):\n",
    "    p.set_data(T2[0:a],s1[0:a])\n",
    "    s.set_data(T2[0:a],s2[0:a])\n",
    "\n",
    "anim = animation.FuncAnimation(fig, update, range(0,100)) #len(dtimes.keys()))\n",
    "anim.save('anims/especies.mp4', writer=\"ffmpeg\", fps=10, bitrate=1800)"
   ]
  },
  {
   "cell_type": "markdown",
   "metadata": {},
   "source": [
    "### Solución simbólica resonancia"
   ]
  },
  {
   "cell_type": "code",
   "execution_count": 9,
   "metadata": {
    "collapsed": true
   },
   "outputs": [],
   "source": [
    "x=Function(\"x\")\n",
    "C1, C2,t = symbols(\"C1, C2, t\")\n",
    "Eq4=Eq(Derivative(x(t),t,t)+x(t),sin(t))\n",
    "a=dsolve(Eq4)\n",
    "const = solve([a.rhs.subs(t,0), a.rhs.diff(t).subs(t, 0)], [C1,C2])\n",
    "a2=simplify(a.rhs.subs(C1, const[C1]).subs(C2, const[C2]))\n",
    "A = np.vectorize(lambda val: a2.subs(t, val).evalf())"
   ]
  },
  {
   "cell_type": "markdown",
   "metadata": {},
   "source": [
    "### Animación\n",
    "Acontinuación se presenta el código para realizar la animación de este sistema usando matplotlib, En donde se muestra el comportamiento de la respuesta del sistema en el tiempo contrastada con la entrada.\n"
   ]
  },
  {
   "cell_type": "code",
   "execution_count": 11,
   "metadata": {
    "collapsed": true
   },
   "outputs": [],
   "source": [
    "fig = plt.figure(figsize=(10,7))\n",
    "xp = np.linspace(-5,5,100)\n",
    "xs = np.linspace(-5,5,10)\n",
    "\n",
    "p, = plt.plot(xp, np.sin(xp) )\n",
    "s, = plt.plot(xp, np.sin(xp) )\n",
    "plt.legend((\"out\", \"in\"))\n",
    "plt.xlabel(\"t\")\n",
    "plt.title(\"Resonancia\")\n",
    "m  = plt.scatter(xp, np.sin(xp),s=20)\n",
    "n  = plt.scatter(xp, np.sin(xp),s=20)\n",
    "plt.ylim(-50,50)\n",
    "plt.xlim(-10,110)\n",
    "def update(a):\n",
    "    p.set_data(np.linspace(0,a,1000),A(np.linspace(0,a,1000)))\n",
    "    s.set_data(np.linspace(0,a,1000),np.sin(np.linspace(0,a,1000)))\n",
    "    m.set_offsets(np.vstack((a, A(a))).T)\n",
    "    n.set_offsets(np.vstack((a, np.sin(a))).T)\n",
    "\n",
    "anim = animation.FuncAnimation(fig, update, range(0,100)) #len(dtimes.keys()))\n",
    "anim.save('anims/resonancia.mp4', writer=\"ffmpeg\", fps=10, bitrate=1800)"
   ]
  },
  {
   "cell_type": "code",
   "execution_count": 9,
   "metadata": {
    "collapsed": false
   },
   "outputs": [],
   "source": [
    "T = np.linspace(0,50,200)\n",
    "a10=np.linspace(0.2,0.9999,10)\n",
    "Eq_yu=range(len(a10))\n",
    "vectors=range(len(a10))\n",
    "b=0\n",
    "for x10 in a10:\n",
    "    Eq_yu[b]=Eq(Derivative(x(t),t,t)+x(t),sin((x10)*t))\n",
    "    a=dsolve(Eq_yu[b])\n",
    "    C1, C2 = symbols(\"C1, C2\")\n",
    "    const = solve([a.rhs.subs(t,0), a.rhs.diff(t).subs(t, 0)], [C1,C2])\n",
    "    a2=simplify(a.rhs.subs(C1, const[C1]).subs(C2, const[C2]))\n",
    "    A = np.vectorize(lambda val: a2.subs(t, val).evalf())\n",
    "    vectors[b]=A(T)\n",
    "    b=b+1"
   ]
  },
  {
   "cell_type": "code",
   "execution_count": 10,
   "metadata": {
    "collapsed": false
   },
   "outputs": [],
   "source": [
    "-"
   ]
  },
  {
   "cell_type": "code",
   "execution_count": null,
   "metadata": {
    "collapsed": true
   },
   "outputs": [],
   "source": []
  }
 ],
 "metadata": {
  "kernelspec": {
   "display_name": "Python 2",
   "language": "python",
   "name": "python2"
  },
  "language_info": {
   "codemirror_mode": {
    "name": "ipython",
    "version": 2
   },
   "file_extension": ".py",
   "mimetype": "text/x-python",
   "name": "python",
   "nbconvert_exporter": "python",
   "pygments_lexer": "ipython2",
   "version": "2.7.11"
  }
 },
 "nbformat": 4,
 "nbformat_minor": 0
}
