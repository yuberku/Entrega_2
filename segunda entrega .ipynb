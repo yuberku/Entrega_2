{
 "cells": [
  {
   "cell_type": "markdown",
   "metadata": {
    "slideshow": {
     "slide_type": "slide"
    }
   },
   "source": [
    "#### Importar librerías "
   ]
  },
  {
   "cell_type": "code",
   "execution_count": 1,
   "metadata": {
    "collapsed": false,
    "slideshow": {
     "slide_type": "fragment"
    }
   },
   "outputs": [],
   "source": [
    "from sympy import * \n",
    "init_printing(use_latex=True)\n",
    "import numpy as np\n",
    "import matplotlib\n",
    "matplotlib.use(\"Agg\")\n",
    "import matplotlib.pyplot as plt\n",
    "%matplotlib inline\n",
    "from scipy.integrate import odeint\n",
    "import matplotlib.animation as animation\n"
   ]
  },
  {
   "cell_type": "markdown",
   "metadata": {
    "slideshow": {
     "slide_type": "slide"
    }
   },
   "source": [
    "## Análisis de la interacción de dos especies mediante ODE"
   ]
  },
  {
   "cell_type": "markdown",
   "metadata": {
    "slideshow": {
     "slide_type": "fragment"
    }
   },
   "source": [
    "### Sistema de ecuaciones lineales "
   ]
  },
  {
   "cell_type": "markdown",
   "metadata": {
    "slideshow": {
     "slide_type": "fragment"
    }
   },
   "source": [
    "Se empezará realizando el análisis de un modelo en que dos especies se relacionan de forma lineal, de tal manera que la variación de una de ellas está relacionada proporcionalmente con el número elementos de esta que existen y también con el número de elementos de la otra, las ecuacuiones son las siguientes:\n"
   ]
  },
  {
   "cell_type": "code",
   "execution_count": 2,
   "metadata": {
    "collapsed": false,
    "slideshow": {
     "slide_type": "fragment"
    }
   },
   "outputs": [
    {
     "data": {
      "image/png": "[encoded data removed]",
      "text/latex": [
       "$$\\left ( \\frac{d}{d t} x{\\left (t \\right )} = a_{1} x{\\left (t \\right )} + b_{1} y{\\left (t \\right )}, \\quad \\frac{d}{d t} y{\\left (t \\right )} = a_{2} y{\\left (t \\right )} + b_{2} y{\\left (t \\right )}\\right )$$"
      ],
      "text/plain": [
       "⎛d                             d                           ⎞\n",
       "⎜──(x(t)) = a₁⋅x(t) + b₁⋅y(t), ──(y(t)) = a₂⋅y(t) + b₂⋅y(t)⎟\n",
       "⎝dt                            dt                          ⎠"
      ]
     },
     "execution_count": 2,
     "metadata": {},
     "output_type": "execute_result"
    }
   ],
   "source": [
    "x= Function(\"x\",real=True)\n",
    "y= Function(\"y\",real=True)\n",
    "a1,a2,b1,b2,t=symbols(\"a1 a2 b1 b2 t\",real=True)\n",
    "eq = (Eq(Derivative(x(t),t),a1*x(t)+b1*y(t)), Eq(Derivative(y(t),t),a2*y(t)+b2*y(t)))\n",
    "eq"
   ]
  },
  {
   "cell_type": "markdown",
   "metadata": {
    "slideshow": {
     "slide_type": "slide"
    }
   },
   "source": [
    "En donde las constantes $a_1$, $b_1$, $a_2$ y $b_2$ indican la forma en la que se llevará a cabo la interacción, para explicar esto utilizaremos la especie $x$, para el parametro $a_1$ en este caso, un número positivo de $a_1$ indica que a medida que existen más elementos de $x$, $x$ va a crecer más rápido, un número negativo para $a_1$ indica que a medida que crece el número de elementos de $x$, $x$ va a decrecer más rápido. Y de igual forma para el parámetro $b_1$ solo que en este caso para la relación es con el numero de elementos de la especie $y$.\n",
    "\n",
    "Ahora miraremos un ejemplo concreto, en el que las variables $a_1$, $b_1$, $a_2$ y $b_2$ tendran valores especificos que indican un comportamiento de las especies, para el caso $a_1=0.013$, $b_1=-0.008$,$a_2=0.013$ y $b_2=-0.007$\n"
   ]
  },
  {
   "cell_type": "markdown",
   "metadata": {
    "collapsed": true,
    "slideshow": {
     "slide_type": "slide"
    }
   },
   "source": [
    "#### Solución simbólica"
   ]
  },
  {
   "cell_type": "code",
   "execution_count": 3,
   "metadata": {
    "collapsed": false,
    "slideshow": {
     "slide_type": "fragment"
    }
   },
   "outputs": [
    {
     "data": {
      "image/png": "[encoded data removed]",
      "text/latex": [
       "$$\\left [ x{\\left (t \\right )} = - 8.0 \\cdot 10^{-5} C_{1} e^{\\frac{3 t}{50000}} - 8.0 \\cdot 10^{-5} C_{2} e^{\\frac{13 t}{100000}}, \\quad y{\\left (t \\right )} = - 7.0 \\cdot 10^{-5} C_{1} e^{\\frac{3 t}{50000}}\\right ]$$"
      ],
      "text/plain": [
       "⎡                        3⋅t                   13⋅t                       3⋅t \n",
       "⎢                       ─────                 ──────                     ─────\n",
       "⎢                       50000                 100000                     50000\n",
       "⎣x(t) = - - -8.0e-5⋅C₁⋅ℯ      - - -8.0e-5⋅C₂⋅ℯ      , y(t) = -7.0e-5⋅C₁⋅ℯ     \n",
       "\n",
       "⎤\n",
       "⎥\n",
       "⎥\n",
       "⎦"
      ]
     },
     "execution_count": 3,
     "metadata": {},
     "output_type": "execute_result"
    }
   ],
   "source": [
    "eq = (Eq(Derivative(x(t),t),0.00013*x(t)-0.00008*y(t)), Eq(Derivative(y(t),t),0.00013*y(t)-0.00007*y(t)))\n",
    "sol = dsolve(eq)\n",
    "sol"
   ]
  },
  {
   "cell_type": "markdown",
   "metadata": {
    "slideshow": {
     "slide_type": "slide"
    }
   },
   "source": [
    "Para condiciones iniciales $x(0)=100$ y $y(0)=100$"
   ]
  },
  {
   "cell_type": "code",
   "execution_count": 4,
   "metadata": {
    "collapsed": false,
    "slideshow": {
     "slide_type": "fragment"
    }
   },
   "outputs": [
    {
     "data": {
      "image/png": "[encoded data removed]",
      "text/latex": [
       "$$\\left [ x{\\left (t \\right )} = - 14.2857142857143 e^{\\frac{13 t}{100000}} + 114.285714285714 e^{\\frac{3 t}{50000}}, \\quad y{\\left (t \\right )} = 100.0 e^{\\frac{3 t}{50000}}\\right ]$$"
      ],
      "text/plain": [
       "⎡                                  13⋅t                       3⋅t             \n",
       "⎢                                 ──────                     ─────            \n",
       "⎢                                 100000                     50000            \n",
       "⎣x(t) = - -14.2857142857143⋅(-1)⋅ℯ       + 114.285714285714⋅ℯ     , y(t) = 100\n",
       "\n",
       "     3⋅t ⎤\n",
       "    ─────⎥\n",
       "    50000⎥\n",
       ".0⋅ℯ     ⎦"
      ]
     },
     "execution_count": 4,
     "metadata": {},
     "output_type": "execute_result"
    }
   ],
   "source": [
    "# para condiciones iniciales x(0) = 100, and y(0) = 100\n",
    "C1, C2 = symbols(\"C1, C2\")\n",
    "const = solve([sol[0].rhs.subs(t,0)-100, sol[1].rhs.subs(t, 0)-100], [C1,C2])\n",
    "sol2=[0,0]\n",
    "sol2[0]=simplify(sol[0].rhs.subs(C1, const[C1]).subs(C2, const[C2]))\n",
    "sol2[1]=simplify(sol[1].rhs.subs(C1, const[C1]).subs(C2, const[C2]))\n",
    "sol3=[Eq(x(t),sol2[0]),Eq(y(t),sol2[1])]\n",
    "X = np.vectorize(lambda val: sol2[0].subs(t, val).evalf())\n",
    "Y = np.vectorize(lambda val: sol2[1].subs(t, val).evalf())\n",
    "sol3"
   ]
  },
  {
   "cell_type": "code",
   "execution_count": 5,
   "metadata": {
    "collapsed": false,
    "slideshow": {
     "slide_type": "slide"
    }
   },
   "outputs": [
    {
     "data": {
      "text/plain": [
       "<matplotlib.text.Text at 0x3e61ac8>"
      ]
     },
     "execution_count": 5,
     "metadata": {},
     "output_type": "execute_result"
    },
    {
     "data": {
      "image/png": "[encoded data removed]",
      "text/plain": [
       "<matplotlib.figure.Figure at 0x8da9e80>"
      ]
     },
     "metadata": {},
     "output_type": "display_data"
    }
   ],
   "source": [
    "T = np.linspace(0,30000,5000)\n",
    "plt.plot(T, X(T))\n",
    "plt.plot(T, Y(T))\n",
    "plt.legend((\"X(t)\", \"Y(t)\"))\n",
    "plt.xlabel(\"t\")"
   ]
  },
  {
   "cell_type": "markdown",
   "metadata": {
    "slideshow": {
     "slide_type": "slide"
    }
   },
   "source": [
    "#### Solución numérica"
   ]
  },
  {
   "cell_type": "code",
   "execution_count": 6,
   "metadata": {
    "collapsed": false,
    "slideshow": {
     "slide_type": "fragment"
    }
   },
   "outputs": [],
   "source": [
    "def yut(y, t, a1, a2, c1, c2):\n",
    "        x1, x2 = y\n",
    "        dydt = [a1*x1-c1*x2,a2*x2-c2*x1]\n",
    "        return dydt\n",
    "    \n",
    "a1=0.00013\n",
    "a2=0.00013\n",
    "c1=0.00008\n",
    "c2=0.00007\n",
    "\n",
    "y0 = [100.0, 100.0]\n",
    "T2 = np.linspace(0,22500,5000)\n",
    "sol = odeint(yut, y0, T2, args=(a1, a2, c1, c2))\n",
    "s1=sol[:,0]\n",
    "s2=sol[:,1]\n",
    "#a=s1<0;\n",
    "#s1[a]=0;"
   ]
  },
  {
   "cell_type": "code",
   "execution_count": 7,
   "metadata": {
    "collapsed": false,
    "slideshow": {
     "slide_type": "slide"
    }
   },
   "outputs": [
    {
     "data": {
      "image/png": "[encoded data removed]",
      "text/plain": [
       "<matplotlib.figure.Figure at 0x95100f0>"
      ]
     },
     "metadata": {},
     "output_type": "display_data"
    }
   ],
   "source": [
    "plt.plot(T2, s1, color=\"blue\")\n",
    "plt.plot(T2, s2, color=\"red\")\n",
    "plt.legend((\"X(t)\", \"Y(t)\"))\n",
    "plt.xlabel(\"t\")\n",
    "plt.title('yu')\n",
    "plt.grid(True)"
   ]
  },
  {
   "cell_type": "markdown",
   "metadata": {
    "slideshow": {
     "slide_type": "fragment"
    }
   },
   "source": [
    "Se observa un comportamiento similar para el análisis simbolico y el análisis númerico, aunque para el análisis numérico se presenta un decrecimiento más rápido para la especie X"
   ]
  },
  {
   "cell_type": "markdown",
   "metadata": {
    "slideshow": {
     "slide_type": "slide"
    }
   },
   "source": [
    "### Sistema de ecuaciones no lineales "
   ]
  },
  {
   "cell_type": "markdown",
   "metadata": {
    "slideshow": {
     "slide_type": "fragment"
    }
   },
   "source": [
    "En este caso las especies ya no se relacionarán de forma lineal dado que se incluirán terminos como $x(t)^2$, $y(t)^2$ y $x(t)*y(t)$ que significan la lucha entre elementos de la misma especie, la lucha entre elementos de especies diferentes y como esto influye en el crecimiento o decremiento de la población. Las ecuaciones son las siguientes:"
   ]
  },
  {
   "cell_type": "code",
   "execution_count": 8,
   "metadata": {
    "collapsed": false,
    "slideshow": {
     "slide_type": "fragment"
    }
   },
   "outputs": [
    {
     "data": {
      "image/png": "[encoded data removed]",
      "text/latex": [
       "$$\\left ( \\frac{d}{d t} x{\\left (t \\right )} = a_{1} x{\\left (t \\right )} + b_{1} x^{2}{\\left (t \\right )} + c_{1} x{\\left (t \\right )} y{\\left (t \\right )}, \\quad \\frac{d}{d t} y{\\left (t \\right )} = a_{2} y{\\left (t \\right )} + b_{2} y^{2}{\\left (t \\right )} + c_{2} x{\\left (t \\right )} y{\\left (t \\right )}\\right )$$"
      ],
      "text/plain": [
       "⎛d                        2                    d                        2     \n",
       "⎜──(x(t)) = a₁⋅x(t) + b₁⋅x (t) + c₁⋅x(t)⋅y(t), ──(y(t)) = a₂⋅y(t) + b₂⋅y (t) +\n",
       "⎝dt                                            dt                             \n",
       "\n",
       "             ⎞\n",
       " c₂⋅x(t)⋅y(t)⎟\n",
       "             ⎠"
      ]
     },
     "execution_count": 8,
     "metadata": {},
     "output_type": "execute_result"
    }
   ],
   "source": [
    "x= Function(\"x\",real=True)\n",
    "y= Function(\"y\",real=True)\n",
    "a1,a2,b1,b2,c1,c2,t=symbols(\"a1 a2 b1 b2 c1 c2 t\",real=True)\n",
    "eq = (Eq(Derivative(x(t),t),a1*x(t)+b1*x(t)**2+c1*x(t)*y(t)), Eq(Derivative(y(t),t),a2*y(t)+b2*y(t)**2+c2*x(t)*y(t)))\n",
    "eq"
   ]
  },
  {
   "cell_type": "markdown",
   "metadata": {
    "slideshow": {
     "slide_type": "slide"
    }
   },
   "source": [
    "#### Solución simbólica"
   ]
  },
  {
   "cell_type": "code",
   "execution_count": 9,
   "metadata": {
    "collapsed": false,
    "slideshow": {
     "slide_type": "fragment"
    }
   },
   "outputs": [
    {
     "data": {
      "image/png": "[encoded data removed]",
      "text/latex": [
       "$$\\left ( \\frac{d}{d t} x{\\left (t \\right )} = 1.0 \\cdot 10^{-5} x^{2}{\\left (t \\right )} + 1.0 \\cdot 10^{-5} x{\\left (t \\right )} y{\\left (t \\right )} + 0.00013 x{\\left (t \\right )} - 8.0 \\cdot 10^{-5} y{\\left (t \\right )}, \\quad \\frac{d}{d t} y{\\left (t \\right )} = 1.0 \\cdot 10^{-5} x^{2}{\\left (t \\right )} + 1.0 \\cdot 10^{-5} x{\\left (t \\right )} y{\\left (t \\right )} - 7.0 \\cdot 10^{-5} x{\\left (t \\right )} + 0.00013 y{\\left (t \\right )}\\right )$$"
      ],
      "text/plain": [
       "⎛d                  2                                                        d\n",
       "⎜──(x(t)) = 1.0e-5⋅x (t) + 1.0e-5⋅x(t)⋅y(t) + 0.00013⋅x(t) - - -8.0e-5⋅y(t), ─\n",
       "⎝dt                                                                          d\n",
       "\n",
       "                  2                                                      ⎞\n",
       "─(y(t)) = 1.0e-5⋅x (t) + 1.0e-5⋅x(t)⋅y(t) - - -7.0e-5⋅x(t) + 0.00013⋅y(t)⎟\n",
       "t                                                                        ⎠"
      ]
     },
     "execution_count": 9,
     "metadata": {},
     "output_type": "execute_result"
    }
   ],
   "source": [
    "eq = (Eq(Derivative(x(t),t),0.00013*x(t)-0.00008*y(t)+0.00001*x(t)**2+0.00001*x(t)*y(t)), Eq(Derivative(y(t),t),0.00013*y(t)-0.00007*x(t)+0.00001*x(t)**2+0.00001*x(t)*y(t)))\n",
    "#sol = dsolve(eq)\n",
    "#sol\n",
    "eq"
   ]
  },
  {
   "cell_type": "markdown",
   "metadata": {
    "slideshow": {
     "slide_type": "slide"
    }
   },
   "source": [
    "#### Solución numérica"
   ]
  },
  {
   "cell_type": "code",
   "execution_count": 10,
   "metadata": {
    "collapsed": false,
    "slideshow": {
     "slide_type": "fragment"
    }
   },
   "outputs": [],
   "source": [
    "def yut(y, t, a1, a2, b1, b2, c1, c2, d1, d2):\n",
    "        x1, x2 = y\n",
    "        dydt = [a1*x1+b1*x2+c1*x1*x1+d1*x1*x2,a2*x2+b2*x1+c2*x2*x2+d2*x1*x2]\n",
    "        return dydt\n",
    "    \n",
    "a1=0.00013\n",
    "a2=0.00013\n",
    "b1=-0.0001\n",
    "b2=-0.0001\n",
    "c1=-0.00001\n",
    "c2=-0.00002\n",
    "d1=-0.00002\n",
    "d2=-0.00002\n",
    "\n",
    "y0 = [100.0, 100.0]\n",
    "T2 = np.linspace(0,20000,100)\n",
    "sol = odeint(yut, y0, T2, args=(a1, a2, b1, b2, c1, c2, d1, d2))\n",
    "s1=sol[:,0]\n",
    "s2=sol[:,1]\n",
    "\n"
   ]
  },
  {
   "cell_type": "code",
   "execution_count": 11,
   "metadata": {
    "collapsed": false,
    "slideshow": {
     "slide_type": "slide"
    }
   },
   "outputs": [
    {
     "data": {
      "image/png": "[encoded data removed]",
      "text/plain": [
       "<matplotlib.figure.Figure at 0x9797550>"
      ]
     },
     "metadata": {},
     "output_type": "display_data"
    }
   ],
   "source": [
    "plt.plot(T2, s1, color=\"blue\")\n",
    "plt.plot(T2, s2, color=\"red\")\n",
    "\n",
    "plt.legend((\"X(t)\", \"Y(t)\"))\n",
    "plt.xlabel(\"t\")\n",
    "plt.title('yu')\n",
    "plt.grid(True)"
   ]
  },
  {
   "cell_type": "markdown",
   "metadata": {
    "slideshow": {
     "slide_type": "slide"
    }
   },
   "source": [
    "### Caso Resonancia\n",
    "Acontinución se ilustrará el caso en el que estimula un sistema a la frecuencia natural del mismo y se presenta un fenomeno que se conoce como resonancia"
   ]
  },
  {
   "cell_type": "code",
   "execution_count": 12,
   "metadata": {
    "collapsed": false,
    "slideshow": {
     "slide_type": "fragment"
    }
   },
   "outputs": [
    {
     "data": {
      "image/png": "[encoded data removed]",
      "text/latex": [
       "$$\\omega^{2} x{\\left (t \\right )} + \\frac{d^{2}}{d t^{2}}  x{\\left (t \\right )} = F \\sin{\\left (\\gamma t \\right )}$$"
      ],
      "text/plain": [
       "                 2                        \n",
       "      2         d                         \n",
       "\\omega ⋅x(t) + ───(x(t)) = F⋅sin(\\gamma⋅t)\n",
       "                 2                        \n",
       "               dt                         "
      ]
     },
     "execution_count": 12,
     "metadata": {},
     "output_type": "execute_result"
    }
   ],
   "source": [
    "g, w, F=symbols(\"\\\\gamma \\\\omega F\")\n",
    "Eq(Derivative(x(t),t,t)+w**2*x(t),F*sin(g*t))\n"
   ]
  },
  {
   "cell_type": "markdown",
   "metadata": {
    "slideshow": {
     "slide_type": "slide"
    }
   },
   "source": [
    "En el caso en el que el valor de $\\gamma$ y $\\omega$ se acercan se presenta un fenomeno llamado Resonancia, en este caso vamos a suponer los valores $\\gamma=1$, $\\omega=1$ y $F=1$ y a resolver la ecuación diferencial para las condiciones iniciales $x(t)=0$ y $\\frac{dx}{dt}=0$"
   ]
  },
  {
   "cell_type": "code",
   "execution_count": 13,
   "metadata": {
    "collapsed": false,
    "slideshow": {
     "slide_type": "fragment"
    }
   },
   "outputs": [
    {
     "data": {
      "image/png": "[encoded data removed]",
      "text/latex": [
       "$$x{\\left (t \\right )} + \\frac{d^{2}}{d t^{2}}  x{\\left (t \\right )} = \\sin{\\left (t \\right )}$$"
      ],
      "text/plain": [
       "         2               \n",
       "        d                \n",
       "x(t) + ───(x(t)) = sin(t)\n",
       "         2               \n",
       "       dt                "
      ]
     },
     "execution_count": 13,
     "metadata": {},
     "output_type": "execute_result"
    }
   ],
   "source": [
    "Eq4=Eq(Derivative(x(t),t,t)+x(t),sin(t))\n",
    "Eq4"
   ]
  },
  {
   "cell_type": "markdown",
   "metadata": {
    "slideshow": {
     "slide_type": "slide"
    }
   },
   "source": [
    "### Solución simbólica"
   ]
  },
  {
   "cell_type": "code",
   "execution_count": 14,
   "metadata": {
    "collapsed": false,
    "slideshow": {
     "slide_type": "fragment"
    }
   },
   "outputs": [
    {
     "data": {
      "image/png": "[encoded data removed]",
      "text/latex": [
       "$$x{\\left (t \\right )} = - \\frac{t}{2} \\cos{\\left (t \\right )} + \\frac{1}{2} \\sin{\\left (t \\right )}$$"
      ],
      "text/plain": [
       "         t⋅cos(t)   sin(t)\n",
       "x(t) = - ──────── + ──────\n",
       "            2         2   "
      ]
     },
     "execution_count": 14,
     "metadata": {},
     "output_type": "execute_result"
    }
   ],
   "source": [
    "a=dsolve(Eq4)\n",
    "C1, C2 = symbols(\"C1, C2\")\n",
    "const = solve([a.rhs.subs(t,0), a.rhs.diff(t).subs(t, 0)], [C1,C2])\n",
    "a2=simplify(a.rhs.subs(C1, const[C1]).subs(C2, const[C2]))\n",
    "A = np.vectorize(lambda val: a2.subs(t, val).evalf())\n",
    "Eq(x(t),a2)"
   ]
  },
  {
   "cell_type": "code",
   "execution_count": 15,
   "metadata": {
    "collapsed": false,
    "slideshow": {
     "slide_type": "slide"
    }
   },
   "outputs": [
    {
     "data": {
      "text/plain": [
       "<matplotlib.text.Text at 0xa89bd30>"
      ]
     },
     "execution_count": 15,
     "metadata": {},
     "output_type": "execute_result"
    },
    {
     "data": {
      "image/png": "[encoded data removed]",
      "text/plain": [
       "<matplotlib.figure.Figure at 0xa88db38>"
      ]
     },
     "metadata": {},
     "output_type": "display_data"
    }
   ],
   "source": [
    "T = np.linspace(0,50,5000)\n",
    "plt.plot(T, A(T))\n",
    "plt.legend((\"X(t)\"))\n",
    "plt.xlabel(\"t\")"
   ]
  },
  {
   "cell_type": "code",
   "execution_count": 25,
   "metadata": {
    "collapsed": false
   },
   "outputs": [],
   "source": [
    "T = np.linspace(0,50,200)\n",
    "a10=np.linspace(0.2,0.9999,10)\n",
    "Eq_yu=range(len(a10))\n",
    "vectors=range(len(a10))\n",
    "b=0\n",
    "for x10 in a10:\n",
    "    Eq_yu[b]=Eq(Derivative(x(t),t,t)+x(t),sin((x10)*t))\n",
    "    a=dsolve(Eq_yu[b])\n",
    "    C1, C2 = symbols(\"C1, C2\")\n",
    "    const = solve([a.rhs.subs(t,0), a.rhs.diff(t).subs(t, 0)], [C1,C2])\n",
    "    a2=simplify(a.rhs.subs(C1, const[C1]).subs(C2, const[C2]))\n",
    "    A = np.vectorize(lambda val: a2.subs(t, val).evalf())\n",
    "    vectors[b]=A(T)\n",
    "    b=b+1\n",
    "    \n",
    "\n",
    "    "
   ]
  },
  {
   "cell_type": "code",
   "execution_count": 26,
   "metadata": {
    "collapsed": false
   },
   "outputs": [
    {
     "data": {
      "image/png": "[encoded data removed]",
      "text/plain": [
       "<matplotlib.figure.Figure at 0xb1540b8>"
      ]
     },
     "metadata": {},
     "output_type": "display_data"
    }
   ],
   "source": [
    "for x13 in vectors:\n",
    "    plt.plot(T,x13)"
   ]
  },
  {
   "cell_type": "markdown",
   "metadata": {
    "slideshow": {
     "slide_type": "slide"
    }
   },
   "source": [
    "### Use Git and nbviewer for publishing and sharing notebooks online.\n",
    "Notebook y la presentación en el siguiente [link](http://nbviewer.jupyter.org/gist/yuberku/b0548115ac1048597dff9257bb8fa5bb)\n",
    "\n",
    "Notebook de creación de las animaciones en el siguiente [link](http://nbviewer.jupyter.org/gist/yuberku/ea42fa8badd838b2c999340459217e4f)"
   ]
  },
  {
   "cell_type": "code",
   "execution_count": null,
   "metadata": {
    "collapsed": true
   },
   "outputs": [],
   "source": []
  }
 ],
 "metadata": {
  "kernelspec": {
   "display_name": "Python 2",
   "language": "python",
   "name": "python2"
  },
  "language_info": {
   "codemirror_mode": {
    "name": "ipython",
    "version": 2
   },
   "file_extension": ".py",
   "mimetype": "text/x-python",
   "name": "python",
   "nbconvert_exporter": "python",
   "pygments_lexer": "ipython2",
   "version": "2.7.11"
  }
 },
 "nbformat": 4,
 "nbformat_minor": 0
}
